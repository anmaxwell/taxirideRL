{
 "cells": [
  {
   "cell_type": "code",
   "execution_count": 1,
   "metadata": {},
   "outputs": [
    {
     "name": "stderr",
     "output_type": "stream",
     "text": [
      "/Library/Frameworks/Python.framework/Versions/3.7/lib/python3.7/site-packages/ale_py/roms/utils.py:90: DeprecationWarning: SelectableGroups dict interface is deprecated. Use select.\n",
      "  for external in metadata.entry_points().get(self.group, []):\n"
     ]
    }
   ],
   "source": [
    "# https://deeplearningcourses.com/c/deep-reinforcement-learning-in-python\n",
    "# https://www.udemy.com/deep-reinforcement-learning-in-python\n",
    "import gym\n",
    "# Wiki:\n",
    "# https://github.com/openai/gym/wiki/CartPole-v0\n",
    "# Environment page:\n",
    "# https://gym.openai.com/envs/CartPole-v0"
   ]
  },
  {
   "cell_type": "code",
   "execution_count": 2,
   "metadata": {},
   "outputs": [],
   "source": [
    "# get the environment\n",
    "env = gym.make('CartPole-v0')"
   ]
  },
  {
   "cell_type": "code",
   "execution_count": 3,
   "metadata": {},
   "outputs": [
    {
     "data": {
      "text/plain": [
       "array([-0.04140599,  0.04666093,  0.02398624, -0.02121128], dtype=float32)"
      ]
     },
     "execution_count": 3,
     "metadata": {},
     "output_type": "execute_result"
    }
   ],
   "source": [
    "# put yourself in the start state\n",
    "# it also returns the state\n",
    "env.reset()\n",
    "# Out[50]: array([-0.04533731, -0.03231478, -0.01469216,  0.04151   ])\n",
    "\n",
    "# what do the state variables mean?\n",
    "# Num Observation Min Max\n",
    "# 0 Cart Position -2.4  2.4\n",
    "# 1 Cart Velocity -Inf  Inf\n",
    "# 2 Pole Angle  ~ -41.8°  ~ 41.8°\n",
    "# 3 Pole Velocity At Tip  -Inf  Inf"
   ]
  },
  {
   "cell_type": "code",
   "execution_count": 4,
   "metadata": {},
   "outputs": [],
   "source": [
    "box = env.observation_space\n",
    "\n",
    "# In [53]: box\n",
    "# Out[53]: Box(4,)\n",
    "\n",
    "# In [54]: box.\n",
    "# box.contains       box.high           box.sample         box.to_jsonable\n",
    "# box.from_jsonable  box.low            box.shape"
   ]
  },
  {
   "cell_type": "code",
   "execution_count": 7,
   "metadata": {},
   "outputs": [
    {
     "data": {
      "text/plain": [
       "Discrete(2)"
      ]
     },
     "execution_count": 7,
     "metadata": {},
     "output_type": "execute_result"
    }
   ],
   "source": [
    "env.action_space\n",
    "\n",
    "# In [71]: env.action_space\n",
    "# Out[71]: Discrete(2)\n",
    "\n",
    "# In [72]: env.action_space.\n",
    "# env.action_space.contains       env.action_space.n              env.action_space.to_jsonable\n",
    "# env.action_space.from_jsonable  env.action_space.sample"
   ]
  },
  {
   "cell_type": "code",
   "execution_count": 72,
   "metadata": {},
   "outputs": [],
   "source": [
    "num_episodes = 500\n",
    "steps_taken = []\n",
    "for i in range(num_episodes):\n",
    "    # reset the environment\n",
    "    env.reset()\n",
    "    # run through an episode\n",
    "    done = False\n",
    "    num_steps = 0\n",
    "    while not done:\n",
    "        observation, reward, done, _ = env.step(env.action_space.sample())\n",
    "        num_steps +=1\n",
    "    steps_taken.append(num_steps)"
   ]
  },
  {
   "cell_type": "code",
   "execution_count": 73,
   "metadata": {},
   "outputs": [
    {
     "data": {
      "text/plain": [
       "21.97"
      ]
     },
     "execution_count": 73,
     "metadata": {},
     "output_type": "execute_result"
    }
   ],
   "source": [
    "sum(steps_taken)/len(steps_taken)"
   ]
  },
  {
   "cell_type": "code",
   "execution_count": 47,
   "metadata": {},
   "outputs": [
    {
     "data": {
      "text/plain": [
       "[19,\n",
       " 16,\n",
       " 21,\n",
       " 10,\n",
       " 26,\n",
       " 12,\n",
       " 22,\n",
       " 26,\n",
       " 13,\n",
       " 14,\n",
       " 33,\n",
       " 26,\n",
       " 26,\n",
       " 19,\n",
       " 16,\n",
       " 26,\n",
       " 22,\n",
       " 17,\n",
       " 16,\n",
       " 19,\n",
       " 17,\n",
       " 58,\n",
       " 29,\n",
       " 27,\n",
       " 13,\n",
       " 27,\n",
       " 16,\n",
       " 15,\n",
       " 13,\n",
       " 17,\n",
       " 12,\n",
       " 31,\n",
       " 19,\n",
       " 32,\n",
       " 18,\n",
       " 22,\n",
       " 21,\n",
       " 20,\n",
       " 25,\n",
       " 21,\n",
       " 11,\n",
       " 16,\n",
       " 14,\n",
       " 17,\n",
       " 13,\n",
       " 20,\n",
       " 25,\n",
       " 93,\n",
       " 33,\n",
       " 26]"
      ]
     },
     "execution_count": 47,
     "metadata": {},
     "output_type": "execute_result"
    }
   ],
   "source": [
    "steps_taken"
   ]
  },
  {
   "cell_type": "code",
   "execution_count": 36,
   "metadata": {},
   "outputs": [],
   "source": [
    "import numpy as np"
   ]
  },
  {
   "cell_type": "code",
   "execution_count": 42,
   "metadata": {},
   "outputs": [],
   "source": [
    "a = np.random.random()\n",
    "b = np.random.random(4)\n",
    "c = b*2\n",
    "d = c - 1"
   ]
  },
  {
   "cell_type": "code",
   "execution_count": 44,
   "metadata": {},
   "outputs": [
    {
     "name": "stdout",
     "output_type": "stream",
     "text": [
      "[0.53141064 0.65270693 0.3507735  0.80273248]\n",
      "[1.06282127 1.30541385 0.70154699 1.60546496]\n",
      "[ 0.06282127  0.30541385 -0.29845301  0.60546496]\n"
     ]
    }
   ],
   "source": [
    "print(b)\n",
    "print(c)\n",
    "print(d)"
   ]
  },
  {
   "cell_type": "code",
   "execution_count": 74,
   "metadata": {},
   "outputs": [
    {
     "data": {
      "text/plain": [
       "True"
      ]
     },
     "execution_count": 74,
     "metadata": {},
     "output_type": "execute_result"
    }
   ],
   "source": [
    "env.action_space.contains(1)"
   ]
  },
  {
   "cell_type": "code",
   "execution_count": 77,
   "metadata": {},
   "outputs": [
    {
     "data": {
      "text/plain": [
       "True"
      ]
     },
     "execution_count": 77,
     "metadata": {},
     "output_type": "execute_result"
    }
   ],
   "source": [
    "env.observation_space.contains([0.7,  3,  0.02398624, -0.02121128])"
   ]
  },
  {
   "cell_type": "code",
   "execution_count": 67,
   "metadata": {},
   "outputs": [
    {
     "data": {
      "text/plain": [
       "array([-3.9756763e+00, -1.6804278e+38, -1.6399813e-01, -2.8834977e+37],\n",
       "      dtype=float32)"
      ]
     },
     "execution_count": 67,
     "metadata": {},
     "output_type": "execute_result"
    }
   ],
   "source": [
    "env.observation_space.sample()"
   ]
  },
  {
   "cell_type": "code",
   "execution_count": 78,
   "metadata": {},
   "outputs": [
    {
     "data": {
      "text/plain": [
       "array([ 0.0473399 ,  0.00018199, -0.03522669, -0.02411438], dtype=float32)"
      ]
     },
     "execution_count": 78,
     "metadata": {},
     "output_type": "execute_result"
    }
   ],
   "source": [
    "env.reset()"
   ]
  },
  {
   "cell_type": "code",
   "execution_count": 79,
   "metadata": {},
   "outputs": [
    {
     "data": {
      "text/plain": [
       "array([-0.03188613, -0.0453225 , -0.02424021,  0.02232612], dtype=float32)"
      ]
     },
     "execution_count": 79,
     "metadata": {},
     "output_type": "execute_result"
    }
   ],
   "source": [
    "env.reset()"
   ]
  },
  {
   "cell_type": "code",
   "execution_count": 80,
   "metadata": {},
   "outputs": [
    {
     "data": {
      "text/plain": [
       "array([ 0.02147732,  0.0333949 , -0.0137676 ,  0.00102687], dtype=float32)"
      ]
     },
     "execution_count": 80,
     "metadata": {},
     "output_type": "execute_result"
    }
   ],
   "source": [
    "env.reset()"
   ]
  },
  {
   "cell_type": "code",
   "execution_count": 84,
   "metadata": {},
   "outputs": [
    {
     "data": {
      "text/plain": [
       "array([-0.03188613, -0.0453225 , -0.02424021,  0.02232612])"
      ]
     },
     "execution_count": 84,
     "metadata": {},
     "output_type": "execute_result"
    }
   ],
   "source": [
    "np.empty(4)"
   ]
  },
  {
   "cell_type": "code",
   "execution_count": null,
   "metadata": {},
   "outputs": [],
   "source": []
  }
 ],
 "metadata": {
  "kernelspec": {
   "display_name": "Python 3",
   "language": "python",
   "name": "python3"
  },
  "language_info": {
   "codemirror_mode": {
    "name": "ipython",
    "version": 3
   },
   "file_extension": ".py",
   "mimetype": "text/x-python",
   "name": "python",
   "nbconvert_exporter": "python",
   "pygments_lexer": "ipython3",
   "version": "3.7.4"
  }
 },
 "nbformat": 4,
 "nbformat_minor": 2
}
