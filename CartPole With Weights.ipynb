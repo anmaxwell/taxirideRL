{
 "cells": [
  {
   "cell_type": "code",
   "execution_count": 2,
   "metadata": {},
   "outputs": [
    {
     "name": "stdout",
     "output_type": "stream",
     "text": [
      "Requirement already satisfied: pyglet in /Library/Frameworks/Python.framework/Versions/3.7/lib/python3.7/site-packages (1.5.21)\n",
      "\u001b[33mWARNING: You are using pip version 20.1.1; however, version 21.3.1 is available.\n",
      "You should consider upgrading via the '/Library/Frameworks/Python.framework/Versions/3.7/bin/python3.7 -m pip install --upgrade pip' command.\u001b[0m\n"
     ]
    }
   ],
   "source": [
    "!pip install pyglet"
   ]
  },
  {
   "cell_type": "code",
   "execution_count": 3,
   "metadata": {},
   "outputs": [
    {
     "name": "stderr",
     "output_type": "stream",
     "text": [
      "/Library/Frameworks/Python.framework/Versions/3.7/lib/python3.7/site-packages/ale_py/roms/utils.py:90: DeprecationWarning: SelectableGroups dict interface is deprecated. Use select.\n",
      "  for external in metadata.entry_points().get(self.group, []):\n"
     ]
    }
   ],
   "source": [
    "# https://deeplearningcourses.com/c/deep-reinforcement-learning-in-python\n",
    "# https://www.udemy.com/deep-reinforcement-learning-in-python\n",
    "from __future__ import print_function, division\n",
    "from builtins import range\n",
    "# Note: you may need to update your version of future\n",
    "# sudo pip install -U future\n",
    "\n",
    "import gym\n",
    "import numpy as np\n",
    "import matplotlib.pyplot as plt"
   ]
  },
  {
   "cell_type": "code",
   "execution_count": 4,
   "metadata": {},
   "outputs": [],
   "source": [
    "def get_action(s, w):\n",
    "  return 1 if s.dot(w) > 0 else 0"
   ]
  },
  {
   "cell_type": "code",
   "execution_count": 5,
   "metadata": {},
   "outputs": [],
   "source": [
    "def play_one_episode(env, params):\n",
    "  observation = env.reset()\n",
    "  done = False\n",
    "  t = 0\n",
    "\n",
    "  while not done and t < 1000:\n",
    "    #env.render()\n",
    "    t += 1\n",
    "    action = get_action(observation, params)\n",
    "    observation, reward, done, info = env.step(action)\n",
    "    if done:\n",
    "      break\n",
    "\n",
    "  return t"
   ]
  },
  {
   "cell_type": "code",
   "execution_count": 6,
   "metadata": {},
   "outputs": [],
   "source": [
    "def play_multiple_episodes(env, T, params):\n",
    "  episode_lengths = np.empty(T)\n",
    "\n",
    "  for i in range(T):\n",
    "    episode_lengths[i] = play_one_episode(env, params)\n",
    "\n",
    "  avg_length = episode_lengths.mean()\n",
    "  print(\"avg length:\", avg_length)\n",
    "  return avg_length"
   ]
  },
  {
   "cell_type": "code",
   "execution_count": 7,
   "metadata": {},
   "outputs": [],
   "source": [
    "def random_search(env):\n",
    "  episode_lengths = []\n",
    "  best = 0\n",
    "  params = None\n",
    "  for t in range(100):\n",
    "    new_params = np.random.random(4)*2 - 1\n",
    "    avg_length = play_multiple_episodes(env, 100, new_params)\n",
    "    episode_lengths.append(avg_length)\n",
    "\n",
    "    if avg_length > best:\n",
    "      params = new_params\n",
    "      best = avg_length\n",
    "  return episode_lengths, params"
   ]
  },
  {
   "cell_type": "code",
   "execution_count": 8,
   "metadata": {},
   "outputs": [
    {
     "name": "stdout",
     "output_type": "stream",
     "text": [
      "avg length: 9.23\n",
      "avg length: 9.0\n",
      "avg length: 9.79\n",
      "avg length: 21.75\n",
      "avg length: 74.83\n",
      "avg length: 73.82\n",
      "avg length: 8.98\n",
      "avg length: 31.76\n",
      "avg length: 9.16\n",
      "avg length: 9.81\n",
      "avg length: 9.16\n",
      "avg length: 168.64\n",
      "avg length: 27.5\n",
      "avg length: 200.0\n",
      "avg length: 9.9\n",
      "avg length: 8.92\n",
      "avg length: 9.66\n",
      "avg length: 42.97\n",
      "avg length: 200.0\n",
      "avg length: 9.17\n",
      "avg length: 186.17\n",
      "avg length: 9.21\n",
      "avg length: 9.03\n",
      "avg length: 162.7\n",
      "avg length: 9.72\n",
      "avg length: 9.61\n",
      "avg length: 9.44\n",
      "avg length: 9.38\n",
      "avg length: 9.35\n",
      "avg length: 9.45\n",
      "avg length: 60.79\n",
      "avg length: 25.03\n",
      "avg length: 9.29\n",
      "avg length: 9.85\n",
      "avg length: 9.49\n",
      "avg length: 8.92\n",
      "avg length: 140.9\n",
      "avg length: 9.95\n",
      "avg length: 9.66\n",
      "avg length: 9.14\n",
      "avg length: 9.4\n",
      "avg length: 132.25\n",
      "avg length: 13.25\n",
      "avg length: 9.34\n",
      "avg length: 110.11\n",
      "avg length: 9.75\n",
      "avg length: 9.2\n",
      "avg length: 166.27\n",
      "avg length: 200.0\n",
      "avg length: 8.9\n",
      "avg length: 9.43\n",
      "avg length: 9.48\n",
      "avg length: 9.86\n",
      "avg length: 21.22\n",
      "avg length: 9.24\n",
      "avg length: 9.07\n",
      "avg length: 39.93\n",
      "avg length: 9.34\n",
      "avg length: 9.65\n",
      "avg length: 95.4\n",
      "avg length: 15.94\n",
      "avg length: 8.89\n",
      "avg length: 83.11\n",
      "avg length: 9.03\n",
      "avg length: 9.03\n",
      "avg length: 9.06\n",
      "avg length: 9.65\n",
      "avg length: 8.78\n",
      "avg length: 129.3\n",
      "avg length: 9.01\n",
      "avg length: 43.32\n",
      "avg length: 9.68\n",
      "avg length: 54.65\n",
      "avg length: 8.82\n",
      "avg length: 28.32\n",
      "avg length: 9.56\n",
      "avg length: 9.19\n",
      "avg length: 9.81\n",
      "avg length: 30.33\n",
      "avg length: 102.75\n",
      "avg length: 9.1\n",
      "avg length: 39.18\n",
      "avg length: 9.32\n",
      "avg length: 115.99\n",
      "avg length: 200.0\n",
      "avg length: 9.41\n",
      "avg length: 9.78\n",
      "avg length: 9.58\n",
      "avg length: 74.47\n",
      "avg length: 9.17\n",
      "avg length: 46.23\n",
      "avg length: 9.67\n",
      "avg length: 157.64\n",
      "avg length: 9.53\n",
      "avg length: 59.82\n",
      "avg length: 39.31\n",
      "avg length: 9.76\n",
      "avg length: 29.09\n",
      "avg length: 131.98\n",
      "avg length: 158.93\n"
     ]
    },
    {
     "data": {
      "image/png": "[encoded data removed]",
      "text/plain": [
       "<Figure size 432x288 with 1 Axes>"
      ]
     },
     "metadata": {
      "needs_background": "light"
     },
     "output_type": "display_data"
    },
    {
     "name": "stdout",
     "output_type": "stream",
     "text": [
      "***Final run with final weights***\n",
      "avg length: 200.0\n"
     ]
    }
   ],
   "source": [
    "if __name__ == '__main__':\n",
    "  env = gym.make('CartPole-v0')\n",
    "  episode_lengths, params = random_search(env)\n",
    "  plt.plot(episode_lengths)\n",
    "  plt.show()\n",
    "\n",
    "  # play a final set of episodes\n",
    "  print(\"***Final run with final weights***\")\n",
    "  play_multiple_episodes(env, 100, params)"
   ]
  },
  {
   "cell_type": "code",
   "execution_count": 9,
   "metadata": {},
   "outputs": [],
   "source": [
    "#first run\n",
    "#params array([0.11476263, 0.02170626, 0.86225908, 0.38960605])"
   ]
  },
  {
   "cell_type": "code",
   "execution_count": 10,
   "metadata": {},
   "outputs": [],
   "source": [
    "#second run\n",
    "#params array([-0.57293274,  0.77725547,  0.17097457,  0.85951499])"
   ]
  },
  {
   "cell_type": "code",
   "execution_count": 11,
   "metadata": {},
   "outputs": [],
   "source": [
    "#third run\n",
    "#params array([0.03672567, 0.27994328, 0.47419654, 0.85324043])"
   ]
  },
  {
   "cell_type": "code",
   "execution_count": 12,
   "metadata": {},
   "outputs": [
    {
     "data": {
      "text/plain": [
       "(4,)"
      ]
     },
     "execution_count": 12,
     "metadata": {},
     "output_type": "execute_result"
    }
   ],
   "source": [
    "env.observation_space.shape"
   ]
  },
  {
   "cell_type": "code",
   "execution_count": 14,
   "metadata": {},
   "outputs": [
    {
     "data": {
      "text/plain": [
       "Discrete(2)"
      ]
     },
     "execution_count": 14,
     "metadata": {},
     "output_type": "execute_result"
    }
   ],
   "source": [
    "env.action_space"
   ]
  },
  {
   "cell_type": "code",
   "execution_count": 15,
   "metadata": {},
   "outputs": [
    {
     "data": {
      "text/plain": [
       "Box([-4.8000002e+00 -3.4028235e+38 -4.1887903e-01 -3.4028235e+38], [4.8000002e+00 3.4028235e+38 4.1887903e-01 3.4028235e+38], (4,), float32)"
      ]
     },
     "execution_count": 15,
     "metadata": {},
     "output_type": "execute_result"
    }
   ],
   "source": [
    "env.observation_space"
   ]
  },
  {
   "cell_type": "code",
   "execution_count": 18,
   "metadata": {},
   "outputs": [
    {
     "data": {
      "text/plain": [
       "array([-9.97385502e-01,  1.61251677e+38,  1.14053406e-01, -1.04396676e+38],\n",
       "      dtype=float32)"
      ]
     },
     "execution_count": 18,
     "metadata": {},
     "output_type": "execute_result"
    }
   ],
   "source": [
    "env.observation_space.sample()"
   ]
  },
  {
   "cell_type": "code",
   "execution_count": null,
   "metadata": {},
   "outputs": [],
   "source": []
  }
 ],
 "metadata": {
  "kernelspec": {
   "display_name": "Python 3",
   "language": "python",
   "name": "python3"
  },
  "language_info": {
   "codemirror_mode": {
    "name": "ipython",
    "version": 3
   },
   "file_extension": ".py",
   "mimetype": "text/x-python",
   "name": "python",
   "nbconvert_exporter": "python",
   "pygments_lexer": "ipython3",
   "version": "3.7.4"
  }
 },
 "nbformat": 4,
 "nbformat_minor": 2
}
